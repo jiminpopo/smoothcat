{
 "cells": [
  {
   "cell_type": "code",
   "execution_count": 10,
   "metadata": {},
   "outputs": [],
   "source": [
    "from smoothcat import TruncatedNormalEncoder\n",
    "import pandas as pd"
   ]
  },
  {
   "cell_type": "code",
   "execution_count": 11,
   "metadata": {},
   "outputs": [
    {
     "name": "stdout",
     "output_type": "stream",
     "text": [
      "Encoded values: [0.76293151 0.44190481 0.34447185 0.80351339 0.18980157 0.7137726\n",
      " 0.13705958]\n",
      "Decoded values: ['M', 'F', 'F', 'M', 'F', 'M', 'F']\n"
     ]
    }
   ],
   "source": [
    "df = pd.DataFrame({'gender': ['M', 'F', 'F', 'M', 'F', 'M', 'F']})\n",
    "\n",
    "encoder = TruncatedNormalEncoder(random_state=42)\n",
    "encoder.fit(df['gender'])\n",
    "\n",
    "encoded = encoder.transform(df['gender'])\n",
    "decoded = encoder.inverse_transform(encoded)\n",
    "\n",
    "print(\"Encoded values:\", encoded)\n",
    "print(\"Decoded values:\", decoded)\n"
   ]
  },
  {
   "cell_type": "code",
   "execution_count": 1,
   "metadata": {},
   "outputs": [],
   "source": [
    "from smoothcat import encode_category, encode_category_with_noise, encode_category_with_weights, get_category_probabilities\n",
    "from smoothcat import TruncatedNormalEncoder, TruncatedNormalEncoderWithNoise, WeightedTruncatedEncoder"
   ]
  },
  {
   "cell_type": "code",
   "execution_count": 4,
   "metadata": {},
   "outputs": [
    {
     "name": "stdout",
     "output_type": "stream",
     "text": [
      "Base Encoded: [0.22342009 0.75777781 0.93380429 0.27076563 0.61071758 0.16606803]\n",
      "Noisy Encoded: [0.00104407 0.67449246 0.9291173  0.49761368 0.43846854 0.07002838]\n"
     ]
    }
   ],
   "source": [
    "import pandas as pd\n",
    "\n",
    "# 테스트 데이터\n",
    "df = pd.DataFrame({'label': ['A', 'B', 'C', 'A', 'B', 'A']})\n",
    "\n",
    "# 고정된 random_state 사용\n",
    "RANDOM_SEED = 42\n",
    "\n",
    "# 기본 인코딩\n",
    "encoded1, cats1, probs1 = encode_category(df['label'], random_state=RANDOM_SEED)\n",
    "print(\"Base Encoded:\", encoded1)\n",
    "\n",
    "# 가우시안 노이즈 추가 인코딩\n",
    "encoded2, cats2, probs2 = encode_category_with_noise(df['label'], noise_var=0.04, random_state=RANDOM_SEED)\n",
    "print(\"Noisy Encoded:\", encoded2)"
   ]
  },
  {
   "cell_type": "code",
   "execution_count": 8,
   "metadata": {},
   "outputs": [
    {
     "data": {
      "text/plain": [
       "array([0.        , 0.5       , 0.83333333, 1.        ])"
      ]
     },
     "execution_count": 8,
     "metadata": {},
     "output_type": "execute_result"
    }
   ],
   "source": [
    "probs2"
   ]
  }
 ],
 "metadata": {
  "kernelspec": {
   "display_name": "base",
   "language": "python",
   "name": "python3"
  },
  "language_info": {
   "codemirror_mode": {
    "name": "ipython",
    "version": 3
   },
   "file_extension": ".py",
   "mimetype": "text/x-python",
   "name": "python",
   "nbconvert_exporter": "python",
   "pygments_lexer": "ipython3",
   "version": "3.9.13"
  }
 },
 "nbformat": 4,
 "nbformat_minor": 2
}
